{
 "cells": [
  {
   "cell_type": "markdown",
   "metadata": {},
   "source": [
    "<p>TVP model's specification is as follows:</p>\n",
    "<p>$$ y_t = \\beta_{1t} x_{1t} + \\beta_{2t} x_{2t} + ... + \\beta_{kt} x_{kt} + e_t \\\\\n",
    "        \\beta_{it} = \\beta_{i,t-1} + v_{it} \\\\\n",
    "        e_t \\sim N(0, \\sigma^2) \\\\\n",
    "        v_{it} \\sim N(0, \\sigma_i^2) $$</p>\n",
    "<p>where $y_t$ is a process, $\\beta_{it}$ are time varying parameters.</p>\n",
    "<p>Presented code uses this model for modelling changing conditional variance of uncertainty in the U.S. monetary growth (chapter 3.4 of Kim and Nelson, 1999).</p>\n",
    "<p>See also http://econ.korea.ac.kr/~cjkim/MARKOV/programs/tvp.opt - the same model implementation used to test this code against.</p>"
   ]
  },
  {
   "cell_type": "code",
   "execution_count": 1,
   "metadata": {
    "collapsed": false
   },
   "outputs": [],
   "source": [
    "\"\"\"\n",
    "Kim and Nelson's (1989) time-varying-parameter model for modelling changing\n",
    "conditional variance of uncertainty in the U.S. monetary growth (chapter\n",
    "3.4 of Kim and Nelson, 1999).\n",
    "\n",
    "Author: Valery Likhosherstov\n",
    "License: Simplified-BSD\n",
    "\"\"\"\n",
    "\n",
    "import numpy as np\n",
    "from statsmodels.tsa.statespace.tvp import TVPModel\n",
    "from statsmodels.tsa.statespace.tests.results import results_tvp\n",
    "\n",
    "dtype = np.float64\n",
    "\n",
    "true = results_tvp.tvp\n",
    "start = true['start']\n",
    "\n",
    "# Model attributes\n",
    "k_exog = 5\n",
    "\n",
    "# Preparing endog and exog data\n",
    "\n",
    "endog = np.array(true['data']['m1'], dtype=dtype)\n",
    "\n",
    "exog = np.zeros((endog.shape[0], k_exog), dtype=dtype)\n",
    "\n",
    "exog[:, 0] = 1\n",
    "exog[:, 1] = true['data']['dint']\n",
    "exog[:, 2] = true['data']['inf']\n",
    "exog[:, 3] = true['data']['surpl']\n",
    "exog[:, 4] = true['data']['m1lag']\n",
    "\n",
    "# Instantiate the model\n",
    "model = TVPModel(endog, exog=exog, dtype=dtype, alternate_timing=True,\n",
    "                 loglikelihood_burn=start)\n",
    "\n",
    "# Authors use the following initialization\n",
    "model.initialize_known(np.zeros(k_exog, dtype=dtype),\n",
    "        np.identity(k_exog, dtype=dtype) * 50)\n",
    "\n",
    "# Fit the model from start parameters, used by authors\n",
    "results = model.fit(np.array(np.array(true['untransformed_start_parameters']), dtype=dtype))"
   ]
  },
  {
   "cell_type": "code",
   "execution_count": 2,
   "metadata": {
    "collapsed": false
   },
   "outputs": [
    {
     "name": "stdout",
     "output_type": "stream",
     "text": [
      "                           Statespace Model Results                           \n",
      "==============================================================================\n",
      "Dep. Variable:                      y   No. Observations:                  106\n",
      "Model:                       TVPModel   Log Likelihood                 -97.092\n",
      "Date:                Thu, 21 Jul 2016   AIC                            206.185\n",
      "Time:                        18:51:58   BIC                            222.165\n",
      "Sample:                             0   HQIC                           212.662\n",
      "                                - 106                                         \n",
      "Covariance Type:                  opg                                         \n",
      "==============================================================================\n",
      "                 coef    std err          z      P>|z|      [0.025      0.975]\n",
      "------------------------------------------------------------------------------\n",
      "obs_var        0.1378      0.047      2.940      0.003       0.046       0.230\n",
      "tvp_var0       0.0124      0.024      0.509      0.611      -0.035       0.060\n",
      "tvp_var1       0.0003      0.001      0.395      0.692      -0.001       0.002\n",
      "tvp_var2       0.0740      0.024      3.021      0.003       0.026       0.122\n",
      "tvp_var3       0.0014      0.018      0.081      0.936      -0.033       0.036\n",
      "tvp_var4       0.0005      0.001      0.587      0.557      -0.001       0.002\n",
      "===================================================================================\n",
      "Ljung-Box (Q):                       37.95   Jarque-Bera (JB):                 6.02\n",
      "Prob(Q):                              0.56   Prob(JB):                         0.05\n",
      "Heteroskedasticity (H):               1.87   Skew:                            -0.19\n",
      "Prob(H) (two-sided):                  0.08   Kurtosis:                         4.16\n",
      "===================================================================================\n",
      "\n",
      "Warnings:\n",
      "[1] Covariance matrix calculated using the outer product of gradients (complex-step).\n"
     ]
    }
   ],
   "source": [
    "# Print results summary\n",
    "print(results.summary())"
   ]
  },
  {
   "cell_type": "code",
   "execution_count": 1,
   "metadata": {
    "collapsed": false
   },
   "outputs": [],
   "source": [
    "%matplotlib inline\n",
    "\n",
    "# Plot time varying parameters\n",
    "results.plot_coefficient(variables=range(k_exog), figsize=(8,10))"
   ]
  }
 ],
 "metadata": {
  "kernelspec": {
   "display_name": "Python 2",
   "language": "python",
   "name": "python2"
  },
  "language_info": {
   "codemirror_mode": {
    "name": "ipython",
    "version": 2
   },
   "file_extension": ".py",
   "mimetype": "text/x-python",
   "name": "python",
   "nbconvert_exporter": "python",
   "pygments_lexer": "ipython2",
   "version": "2.7.10"
  }
 },
 "nbformat": 4,
 "nbformat_minor": 0
}
