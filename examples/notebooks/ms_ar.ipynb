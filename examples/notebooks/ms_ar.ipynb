{
 "cells": [
  {
   "cell_type": "markdown",
   "metadata": {},
   "source": [
    "<p>Markov switching autoregression model in <code>statespace.regime_switching</code> module has the following specification:</p>\n",
    "<p>$$ \\phi_{S_t}(L)(y_t - \\mu_{S_t} - x_t' \\beta_t) = e_t \\\\\n",
    "        e_t \\sim N(0, \\sigma_{S_t}^2) $$</p>\n",
    "<p>Where $\\phi_{S_t}$ is a regime switching lag polynomial, $y_t$ is an observed process, $\\mu_{S_t}$ is a switching intercept, $x_t$ is exogenous vector , $\\beta_t$ are exogenous regressors and $e_t$ is a white noise. Switching objects in the specification can optionally be used without switching.</p>\n",
    "<p>Presented code uses this model for business fluctuations modelling (chapter 4.4 of Kim and Nelson, 1999). Only intercept terms are switching in this case.</p>\n",
    "<p>See also http://econ.korea.ac.kr/~cjkim/MARKOV/programs/hmt4_kim.opt - the same model implementation used for testing.</p>"
   ]
  },
  {
   "cell_type": "code",
   "execution_count": null,
   "metadata": {
    "collapsed": false
   },
   "outputs": [],
   "source": [
    "\"\"\"\n",
    "Hamilton's (1989) Markov-Switching Model of Business Fluctuations (chapter 4.4 of Kim and Nelson, 1999)\n",
    "\n",
    "Author: Valery Likhosherstov\n",
    "License: Simplified-BSD\n",
    "\"\"\"\n",
    "\n",
    "import numpy as np\n",
    "from statsmodels.tsa.statespace.regime_switching.api import MarkovAutoregression\n",
    "from statsmodels.tsa.statespace.regime_switching.tests.results import results_hamilton1989\n",
    "\n",
    "dtype = np.float64\n",
    "\n",
    "# Model attributes\n",
    "\n",
    "# The number of Markov switching autoregression regimes. Note, that this\n",
    "# is different from the number of regimes, used internally in state-space\n",
    "# model.\n",
    "k_ar_regimes = 2\n",
    "\n",
    "# Autoregression order\n",
    "order = 4\n",
    "\n",
    "true = results_hamilton1989.hmt4_kim\n",
    "\n",
    "# Preparing observations\n",
    "data = np.array(true['data'], dtype=dtype)\n",
    "data = np.log(data) * 100\n",
    "\n",
    "obs = data[20:152] - data[19:151]\n",
    "\n",
    "# Instantiate MS-AR model with switching mean\n",
    "model = MarkovAutoregression(k_ar_regimes, order, obs, switching_mean=True, dtype=dtype)"
   ]
  },
  {
   "cell_type": "code",
   "execution_count": null,
   "metadata": {
    "collapsed": false
   },
   "outputs": [],
   "source": [
    "# Fit the model from start parameters, used by authors.\n",
    "# Note, that it takes some time to converge.\n",
    "results = model.fit(start_params=np.array(true['untransformed_start_parameters'], dtype=dtype),\n",
    "        transformed=False)\n",
    "\n",
    "# Print the summary\n",
    "print(results.summary())"
   ]
  },
  {
   "cell_type": "code",
   "execution_count": null,
   "metadata": {
    "collapsed": false
   },
   "outputs": [],
   "source": [
    "# EM-algorithm feature for Markov autoregression model.\n",
    "\n",
    "\n",
    "# This method, by default, runs 50 sessions of EM-algorithm from random starts with 5 iterations each.\n",
    "# (It takes some time to run this code)\n",
    "params = model.fit_em_with_random_starts()\n",
    "\n",
    "# Get the results object\n",
    "results = model.smooth(params)\n",
    "\n",
    "# Print the summary\n",
    "print(results.summary())"
   ]
  },
  {
   "cell_type": "markdown",
   "metadata": {},
   "source": [
    "<h1>References</h1>\n",
    "<p>Kim, Chang-Jin, and Charles R. Nelson. 1999.<br>\n",
    "\"State-Space Models with Regime Switching: Classical and Gibbs-Sampling Approaches with Applications\".<br>\n",
    "MIT Press Books. The MIT Press.</p>"
   ]
  }
 ],
 "metadata": {
  "kernelspec": {
   "display_name": "Python 2",
   "language": "python",
   "name": "python2"
  },
  "language_info": {
   "codemirror_mode": {
    "name": "ipython",
    "version": 2
   },
   "file_extension": ".py",
   "mimetype": "text/x-python",
   "name": "python",
   "nbconvert_exporter": "python",
   "pygments_lexer": "ipython2",
   "version": "2.7.10"
  }
 },
 "nbformat": 4,
 "nbformat_minor": 0
}
